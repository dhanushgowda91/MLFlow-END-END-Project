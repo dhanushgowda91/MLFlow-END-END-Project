{
 "cells": [
  {
   "cell_type": "code",
   "execution_count": 1,
   "metadata": {},
   "outputs": [],
   "source": [
    "import os"
   ]
  },
  {
   "cell_type": "code",
   "execution_count": 2,
   "metadata": {},
   "outputs": [
    {
     "data": {
      "text/plain": [
       "'c:\\\\Users\\\\dvidyara\\\\OneDrive - Cisco\\\\Desktop\\\\MLEND-END\\\\MLFlow-END-END-Project\\\\research'"
      ]
     },
     "execution_count": 2,
     "metadata": {},
     "output_type": "execute_result"
    }
   ],
   "source": [
    "pwd"
   ]
  },
  {
   "cell_type": "code",
   "execution_count": 3,
   "metadata": {},
   "outputs": [],
   "source": [
    "os.chdir(\"../\")"
   ]
  },
  {
   "cell_type": "code",
   "execution_count": 4,
   "metadata": {},
   "outputs": [
    {
     "data": {
      "text/plain": [
       "'c:\\\\Users\\\\dvidyara\\\\OneDrive - Cisco\\\\Desktop\\\\MLEND-END\\\\MLFlow-END-END-Project'"
      ]
     },
     "execution_count": 4,
     "metadata": {},
     "output_type": "execute_result"
    }
   ],
   "source": [
    "pwd"
   ]
  },
  {
   "cell_type": "code",
   "execution_count": 69,
   "metadata": {},
   "outputs": [],
   "source": [
    "os.environ[\"MLFLOW_TRACKING_URI\"]=\"https://dagshub.com/dhanushgowda91/MLFlow-END-END-Project.mlflow\"\n",
    "os.environ[\"MFLOW_TRACKING_USERNAME\"]=\"dhanushgowda91\"\n",
    "os.environ[\"MLFLOW_TRACKING_PASSWORD\"]=\"da6e989a9a3a41e914c03a04ebd5e04880087fa5\""
   ]
  },
  {
   "cell_type": "code",
   "execution_count": 63,
   "metadata": {},
   "outputs": [],
   "source": [
    "from dataclasses import dataclass\n",
    "from pathlib import Path\n",
    "\n",
    "@dataclass(frozen=True)\n",
    "class ModelEvaulationConfig:\n",
    "    root_dir: Path\n",
    "    test_data_path: Path\n",
    "    model_path: Path\n",
    "    all_params: dict\n",
    "    metric_file_name: Path\n",
    "    target_column: str\n",
    "    mlflow_uri: str"
   ]
  },
  {
   "cell_type": "code",
   "execution_count": 71,
   "metadata": {},
   "outputs": [
    {
     "name": "stdout",
     "output_type": "stream",
     "text": [
      "Requirement already satisfied: dagshub in c:\\users\\dvidyara\\.conda\\envs\\anaconda\\lib\\site-packages (0.3.29)Note: you may need to restart the kernel to use updated packages.\n",
      "\n",
      "Requirement already satisfied: PyYAML>=5 in c:\\users\\dvidyara\\.conda\\envs\\anaconda\\lib\\site-packages (from dagshub) (6.0.1)\n",
      "Requirement already satisfied: fusepy>=3 in c:\\users\\dvidyara\\.conda\\envs\\anaconda\\lib\\site-packages (from dagshub) (3.0.1)\n",
      "Requirement already satisfied: appdirs>=1.4.4 in c:\\users\\dvidyara\\.conda\\envs\\anaconda\\lib\\site-packages (from dagshub) (1.4.4)\n",
      "Requirement already satisfied: click>=8.0.4 in c:\\users\\dvidyara\\.conda\\envs\\anaconda\\lib\\site-packages (from dagshub) (8.1.7)\n",
      "Requirement already satisfied: httpx~=0.23.0 in c:\\users\\dvidyara\\.conda\\envs\\anaconda\\lib\\site-packages (from dagshub) (0.23.3)\n",
      "Requirement already satisfied: GitPython>=3.1.29 in c:\\users\\dvidyara\\.conda\\envs\\anaconda\\lib\\site-packages (from dagshub) (3.1.43)\n",
      "Requirement already satisfied: rich~=13.1.0 in c:\\users\\dvidyara\\.conda\\envs\\anaconda\\lib\\site-packages (from dagshub) (13.1.0)\n",
      "Requirement already satisfied: dacite~=1.6.0 in c:\\users\\dvidyara\\.conda\\envs\\anaconda\\lib\\site-packages (from dagshub) (1.6.0)\n",
      "Requirement already satisfied: tenacity~=8.2.2 in c:\\users\\dvidyara\\.conda\\envs\\anaconda\\lib\\site-packages (from dagshub) (8.2.3)\n",
      "Requirement already satisfied: gql[requests] in c:\\users\\dvidyara\\.conda\\envs\\anaconda\\lib\\site-packages (from dagshub) (3.5.0)\n",
      "Requirement already satisfied: dataclasses-json in c:\\users\\dvidyara\\.conda\\envs\\anaconda\\lib\\site-packages (from dagshub) (0.6.7)\n",
      "Requirement already satisfied: pandas in c:\\users\\dvidyara\\.conda\\envs\\anaconda\\lib\\site-packages (from dagshub) (2.2.2)\n",
      "Requirement already satisfied: treelib~=1.6.4 in c:\\users\\dvidyara\\.conda\\envs\\anaconda\\lib\\site-packages (from dagshub) (1.6.4)\n",
      "Requirement already satisfied: pathvalidate~=3.0.0 in c:\\users\\dvidyara\\.conda\\envs\\anaconda\\lib\\site-packages (from dagshub) (3.0.0)\n",
      "Requirement already satisfied: python-dateutil in c:\\users\\dvidyara\\.conda\\envs\\anaconda\\lib\\site-packages (from dagshub) (2.9.0.post0)\n",
      "Requirement already satisfied: boto3 in c:\\users\\dvidyara\\.conda\\envs\\anaconda\\lib\\site-packages (from dagshub) (1.34.138)\n",
      "Requirement already satisfied: colorama in c:\\users\\dvidyara\\.conda\\envs\\anaconda\\lib\\site-packages (from click>=8.0.4->dagshub) (0.4.6)\n",
      "Requirement already satisfied: gitdb<5,>=4.0.1 in c:\\users\\dvidyara\\.conda\\envs\\anaconda\\lib\\site-packages (from GitPython>=3.1.29->dagshub) (4.0.11)\n",
      "Requirement already satisfied: certifi in c:\\users\\dvidyara\\.conda\\envs\\anaconda\\lib\\site-packages (from httpx~=0.23.0->dagshub) (2024.6.2)\n",
      "Requirement already satisfied: httpcore<0.17.0,>=0.15.0 in c:\\users\\dvidyara\\.conda\\envs\\anaconda\\lib\\site-packages (from httpx~=0.23.0->dagshub) (0.16.3)\n",
      "Requirement already satisfied: rfc3986<2,>=1.3 in c:\\users\\dvidyara\\.conda\\envs\\anaconda\\lib\\site-packages (from rfc3986[idna2008]<2,>=1.3->httpx~=0.23.0->dagshub) (1.5.0)\n",
      "Requirement already satisfied: sniffio in c:\\users\\dvidyara\\.conda\\envs\\anaconda\\lib\\site-packages (from httpx~=0.23.0->dagshub) (1.3.1)\n",
      "Requirement already satisfied: commonmark<0.10.0,>=0.9.0 in c:\\users\\dvidyara\\.conda\\envs\\anaconda\\lib\\site-packages (from rich~=13.1.0->dagshub) (0.9.1)\n",
      "Requirement already satisfied: pygments<3.0.0,>=2.6.0 in c:\\users\\dvidyara\\.conda\\envs\\anaconda\\lib\\site-packages (from rich~=13.1.0->dagshub) (2.18.0)\n",
      "Requirement already satisfied: six in c:\\users\\dvidyara\\.conda\\envs\\anaconda\\lib\\site-packages (from treelib~=1.6.4->dagshub) (1.16.0)\n",
      "Requirement already satisfied: botocore<1.35.0,>=1.34.138 in c:\\users\\dvidyara\\.conda\\envs\\anaconda\\lib\\site-packages (from boto3->dagshub) (1.34.138)\n",
      "Requirement already satisfied: jmespath<2.0.0,>=0.7.1 in c:\\users\\dvidyara\\.conda\\envs\\anaconda\\lib\\site-packages (from boto3->dagshub) (1.0.1)\n",
      "Requirement already satisfied: s3transfer<0.11.0,>=0.10.0 in c:\\users\\dvidyara\\.conda\\envs\\anaconda\\lib\\site-packages (from boto3->dagshub) (0.10.2)\n",
      "Requirement already satisfied: marshmallow<4.0.0,>=3.18.0 in c:\\users\\dvidyara\\.conda\\envs\\anaconda\\lib\\site-packages (from dataclasses-json->dagshub) (3.21.3)\n",
      "Requirement already satisfied: typing-inspect<1,>=0.4.0 in c:\\users\\dvidyara\\.conda\\envs\\anaconda\\lib\\site-packages (from dataclasses-json->dagshub) (0.9.0)\n",
      "Requirement already satisfied: graphql-core<3.3,>=3.2 in c:\\users\\dvidyara\\.conda\\envs\\anaconda\\lib\\site-packages (from gql[requests]->dagshub) (3.2.3)\n",
      "Requirement already satisfied: yarl<2.0,>=1.6 in c:\\users\\dvidyara\\.conda\\envs\\anaconda\\lib\\site-packages (from gql[requests]->dagshub) (1.9.4)\n",
      "Requirement already satisfied: backoff<3.0,>=1.11.1 in c:\\users\\dvidyara\\.conda\\envs\\anaconda\\lib\\site-packages (from gql[requests]->dagshub) (2.2.1)\n",
      "Requirement already satisfied: anyio<5,>=3.0 in c:\\users\\dvidyara\\.conda\\envs\\anaconda\\lib\\site-packages (from gql[requests]->dagshub) (4.4.0)\n",
      "Requirement already satisfied: requests<3,>=2.26 in c:\\users\\dvidyara\\.conda\\envs\\anaconda\\lib\\site-packages (from gql[requests]->dagshub) (2.32.3)\n",
      "Requirement already satisfied: requests-toolbelt<2,>=1.0.0 in c:\\users\\dvidyara\\.conda\\envs\\anaconda\\lib\\site-packages (from gql[requests]->dagshub) (1.0.0)\n",
      "Requirement already satisfied: numpy>=1.22.4 in c:\\users\\dvidyara\\.conda\\envs\\anaconda\\lib\\site-packages (from pandas->dagshub) (1.26.4)\n",
      "Requirement already satisfied: pytz>=2020.1 in c:\\users\\dvidyara\\.conda\\envs\\anaconda\\lib\\site-packages (from pandas->dagshub) (2024.1)\n",
      "Requirement already satisfied: tzdata>=2022.7 in c:\\users\\dvidyara\\.conda\\envs\\anaconda\\lib\\site-packages (from pandas->dagshub) (2024.1)\n",
      "Requirement already satisfied: idna>=2.8 in c:\\users\\dvidyara\\.conda\\envs\\anaconda\\lib\\site-packages (from anyio<5,>=3.0->gql[requests]->dagshub) (3.7)\n",
      "Requirement already satisfied: exceptiongroup>=1.0.2 in c:\\users\\dvidyara\\.conda\\envs\\anaconda\\lib\\site-packages (from anyio<5,>=3.0->gql[requests]->dagshub) (1.2.1)\n",
      "Requirement already satisfied: typing-extensions>=4.1 in c:\\users\\dvidyara\\.conda\\envs\\anaconda\\lib\\site-packages (from anyio<5,>=3.0->gql[requests]->dagshub) (4.12.2)\n",
      "Requirement already satisfied: urllib3!=2.2.0,<3,>=1.25.4 in c:\\users\\dvidyara\\.conda\\envs\\anaconda\\lib\\site-packages (from botocore<1.35.0,>=1.34.138->boto3->dagshub) (2.2.2)\n",
      "Requirement already satisfied: smmap<6,>=3.0.1 in c:\\users\\dvidyara\\.conda\\envs\\anaconda\\lib\\site-packages (from gitdb<5,>=4.0.1->GitPython>=3.1.29->dagshub) (5.0.1)\n",
      "Requirement already satisfied: h11<0.15,>=0.13 in c:\\users\\dvidyara\\.conda\\envs\\anaconda\\lib\\site-packages (from httpcore<0.17.0,>=0.15.0->httpx~=0.23.0->dagshub) (0.14.0)\n",
      "Requirement already satisfied: packaging>=17.0 in c:\\users\\dvidyara\\.conda\\envs\\anaconda\\lib\\site-packages (from marshmallow<4.0.0,>=3.18.0->dataclasses-json->dagshub) (24.1)\n",
      "Requirement already satisfied: charset-normalizer<4,>=2 in c:\\users\\dvidyara\\.conda\\envs\\anaconda\\lib\\site-packages (from requests<3,>=2.26->gql[requests]->dagshub) (3.3.2)\n",
      "Requirement already satisfied: mypy-extensions>=0.3.0 in c:\\users\\dvidyara\\.conda\\envs\\anaconda\\lib\\site-packages (from typing-inspect<1,>=0.4.0->dataclasses-json->dagshub) (1.0.0)\n",
      "Requirement already satisfied: multidict>=4.0 in c:\\users\\dvidyara\\.conda\\envs\\anaconda\\lib\\site-packages (from yarl<2.0,>=1.6->gql[requests]->dagshub) (6.0.5)\n"
     ]
    }
   ],
   "source": [
    "pip install dagshub"
   ]
  },
  {
   "cell_type": "code",
   "execution_count": 72,
   "metadata": {},
   "outputs": [],
   "source": [
    "from mlProject.constants import *\n",
    "from mlProject.utils.common import read_yaml , create_directories\n",
    "\n",
    "class ConfigurationManager:\n",
    "\n",
    "    def __init__(self, config_filepath= CONFIG_FILE_PATH, params_filepath= PARAMS_FILE_PATH, schema_filepath= SCHEMA_FILE_PATH):\n",
    "        self.config= read_yaml(config_filepath)\n",
    "        self.params= read_yaml(params_filepath)\n",
    "        self.schema= read_yaml(schema_filepath)\n",
    "\n",
    "        create_directories([self.config.artifacts_root])\n",
    "\n",
    "    def get_model_evaluation_config(self) -> ModelEvaulationConfig:\n",
    "        config= self.config.model_evaluation\n",
    "        params= self.params.ElasticNet\n",
    "        schema= self.schema.TARGET_COLUMN\n",
    "\n",
    "        create_directories([config.root_dir])\n",
    "\n",
    "        model_evaluation_config= ModelEvaulationConfig(root_dir=config.root_dir,test_data_path=config.test_data_path,model_path=config.model_path,all_params=params,\n",
    "            metric_file_name= config.metric_file_name,target_column=schema.name,mlflow_uri=\"https://dagshub.com/dhanushgowda91/MLFlow-END-END-Project.mlflow\")\n",
    "        return model_evaluation_config\n",
    "\n"
   ]
  },
  {
   "cell_type": "code",
   "execution_count": 73,
   "metadata": {},
   "outputs": [],
   "source": [
    "import os\n",
    "import pandas as pd\n",
    "from sklearn.metrics import mean_squared_error, mean_absolute_error, r2_score\n",
    "from urllib.parse import urlparse\n",
    "import mlflow\n",
    "import mlflow.sklearn\n",
    "import numpy as np\n",
    "import joblib\n",
    "import dagshub"
   ]
  },
  {
   "cell_type": "code",
   "execution_count": 74,
   "metadata": {},
   "outputs": [],
   "source": [
    "from mlProject.utils.common import save_json\n",
    "\n",
    "os.environ[\"MLFLOW_TRACKING_URI\"]=\"https://dagshub.com/dhanushgowda91/MLFlow-END-END-Project.mlflow\"\n",
    "os.environ[\"MFLOW_TRACKING_USERNAME\"]=\"dhanushgowda91\"\n",
    "os.environ[\"MLFLOW_TRACKING_PASSWORD\"]=\"da6e989a9a3a41e914c03a04ebd5e04880087fa5\"\n",
    "\n",
    "\n",
    "\n",
    "class ModelEvaulation:\n",
    "    def __init__(self, config: ModelEvaulationConfig):\n",
    "        self.config=config\n",
    "\n",
    "    def eval_metrics(self, actual, pred):\n",
    "        rmse= np.sqrt(mean_squared_error(actual, pred))\n",
    "        mae= mean_absolute_error(actual, pred)\n",
    "        r2= r2_score(actual, pred)\n",
    "        return rmse, mae, r2\n",
    "    \n",
    "    def log_into_mlflow(self):\n",
    "        test_data= pd.read_csv(self.config.test_data_path)\n",
    "        model= joblib.load(self.config.model_path)\n",
    "\n",
    "        test_x= test_data.drop([self.config.target_column], axis=1)\n",
    "        test_y= test_data[self.config.target_column]\n",
    "\n",
    "        mlflow.set_registry_uri(self.config.mlflow_uri)\n",
    "        tracking_url_type_score= urlparse(mlflow.get_tracking_uri()).scheme\n",
    "\n",
    "        with mlflow.start_run():\n",
    "            predicted_qualities=  model.predict(test_x)\n",
    "            (rmse, mae,r2)= self.eval_metrics(test_y, predicted_qualities)\n",
    "            scores= {\"rmse\": rmse, \"mae\": mae , \"r2\": r2}\n",
    "            save_json(path=Path(self.config.metric_file_name), data= scores)\n",
    "\n",
    "            mlflow.log_params(self.config.all_params)\n",
    "\n",
    "            mlflow.log_metric(\"rmse\", rmse)\n",
    "            mlflow.log_metric(\"mae\", mae)\n",
    "            mlflow.log_metric(\"r2\", r2)\n",
    "\n",
    "        \n",
    "        if tracking_url_type_score != \"file\":\n",
    "            mlflow.sklearn.log_model(model, \"model\", registered_model_name= \"ElasticnetModel\")\n",
    "        else:\n",
    "             mlflow.sklearn.log_model(model, \"model\")\n",
    "\n"
   ]
  },
  {
   "cell_type": "code",
   "execution_count": 75,
   "metadata": {},
   "outputs": [
    {
     "name": "stdout",
     "output_type": "stream",
     "text": [
      "[2024-07-02 17:11:10,553: INFO: common:  yaml file: config\\config.yaml loaded successfully]\n",
      "[2024-07-02 17:11:10,557: INFO: common:  yaml file: params.yaml loaded successfully]\n",
      "[2024-07-02 17:11:10,562: INFO: common:  yaml file: schema.yaml loaded successfully]\n",
      "[2024-07-02 17:11:10,564: INFO: common: Created directory at: artifacts]\n",
      "[2024-07-02 17:11:10,566: INFO: common: Created directory at: artifacts/model_evaluation]\n"
     ]
    },
    {
     "ename": "MlflowException",
     "evalue": "API request to endpoint /api/2.0/mlflow/runs/create failed with error code 403 != 200. Response body: ''",
     "output_type": "error",
     "traceback": [
      "\u001b[1;31m---------------------------------------------------------------------------\u001b[0m",
      "\u001b[1;31mMlflowException\u001b[0m                           Traceback (most recent call last)",
      "Cell \u001b[1;32mIn[75], line 7\u001b[0m\n\u001b[0;32m      5\u001b[0m     data_evaluation_config\u001b[38;5;241m.\u001b[39mlog_into_mlflow()\n\u001b[0;32m      6\u001b[0m \u001b[38;5;28;01mexcept\u001b[39;00m \u001b[38;5;167;01mException\u001b[39;00m \u001b[38;5;28;01mas\u001b[39;00m e:\n\u001b[1;32m----> 7\u001b[0m     \u001b[38;5;28;01mraise\u001b[39;00m e \n",
      "Cell \u001b[1;32mIn[75], line 5\u001b[0m\n\u001b[0;32m      3\u001b[0m     data_evaluation_config\u001b[38;5;241m=\u001b[39m config\u001b[38;5;241m.\u001b[39mget_model_evaluation_config()\n\u001b[0;32m      4\u001b[0m     data_evaluation_config\u001b[38;5;241m=\u001b[39m ModelEvaulation(config\u001b[38;5;241m=\u001b[39mdata_evaluation_config)\n\u001b[1;32m----> 5\u001b[0m     \u001b[43mdata_evaluation_config\u001b[49m\u001b[38;5;241;43m.\u001b[39;49m\u001b[43mlog_into_mlflow\u001b[49m\u001b[43m(\u001b[49m\u001b[43m)\u001b[49m\n\u001b[0;32m      6\u001b[0m \u001b[38;5;28;01mexcept\u001b[39;00m \u001b[38;5;167;01mException\u001b[39;00m \u001b[38;5;28;01mas\u001b[39;00m e:\n\u001b[0;32m      7\u001b[0m     \u001b[38;5;28;01mraise\u001b[39;00m e \n",
      "Cell \u001b[1;32mIn[74], line 24\u001b[0m, in \u001b[0;36mModelEvaulation.log_into_mlflow\u001b[1;34m(self)\u001b[0m\n\u001b[0;32m     21\u001b[0m mlflow\u001b[38;5;241m.\u001b[39mset_registry_uri(\u001b[38;5;28mself\u001b[39m\u001b[38;5;241m.\u001b[39mconfig\u001b[38;5;241m.\u001b[39mmlflow_uri)\n\u001b[0;32m     22\u001b[0m tracking_url_type_score\u001b[38;5;241m=\u001b[39m urlparse(mlflow\u001b[38;5;241m.\u001b[39mget_tracking_uri())\u001b[38;5;241m.\u001b[39mscheme\n\u001b[1;32m---> 24\u001b[0m \u001b[38;5;28;01mwith\u001b[39;00m \u001b[43mmlflow\u001b[49m\u001b[38;5;241;43m.\u001b[39;49m\u001b[43mstart_run\u001b[49m\u001b[43m(\u001b[49m\u001b[43m)\u001b[49m:\n\u001b[0;32m     25\u001b[0m     predicted_qualities\u001b[38;5;241m=\u001b[39m  model\u001b[38;5;241m.\u001b[39mpredict(test_x)\n\u001b[0;32m     26\u001b[0m     (rmse, mae,r2)\u001b[38;5;241m=\u001b[39m \u001b[38;5;28mself\u001b[39m\u001b[38;5;241m.\u001b[39meval_metrics(test_y, predicted_qualities)\n",
      "File \u001b[1;32mc:\\Users\\dvidyara\\.conda\\envs\\anaconda\\lib\\site-packages\\mlflow\\tracking\\fluent.py:382\u001b[0m, in \u001b[0;36mstart_run\u001b[1;34m(run_id, experiment_id, run_name, nested, tags, description, log_system_metrics)\u001b[0m\n\u001b[0;32m    378\u001b[0m         user_specified_tags[MLFLOW_RUN_NAME] \u001b[38;5;241m=\u001b[39m run_name\n\u001b[0;32m    380\u001b[0m     resolved_tags \u001b[38;5;241m=\u001b[39m context_registry\u001b[38;5;241m.\u001b[39mresolve_tags(user_specified_tags)\n\u001b[1;32m--> 382\u001b[0m     active_run_obj \u001b[38;5;241m=\u001b[39m \u001b[43mclient\u001b[49m\u001b[38;5;241;43m.\u001b[39;49m\u001b[43mcreate_run\u001b[49m\u001b[43m(\u001b[49m\n\u001b[0;32m    383\u001b[0m \u001b[43m        \u001b[49m\u001b[43mexperiment_id\u001b[49m\u001b[38;5;241;43m=\u001b[39;49m\u001b[43mexp_id_for_run\u001b[49m\u001b[43m,\u001b[49m\n\u001b[0;32m    384\u001b[0m \u001b[43m        \u001b[49m\u001b[43mtags\u001b[49m\u001b[38;5;241;43m=\u001b[39;49m\u001b[43mresolved_tags\u001b[49m\u001b[43m,\u001b[49m\n\u001b[0;32m    385\u001b[0m \u001b[43m        \u001b[49m\u001b[43mrun_name\u001b[49m\u001b[38;5;241;43m=\u001b[39;49m\u001b[43mrun_name\u001b[49m\u001b[43m,\u001b[49m\n\u001b[0;32m    386\u001b[0m \u001b[43m    \u001b[49m\u001b[43m)\u001b[49m\n\u001b[0;32m    388\u001b[0m \u001b[38;5;28;01mif\u001b[39;00m log_system_metrics \u001b[38;5;129;01mis\u001b[39;00m \u001b[38;5;28;01mNone\u001b[39;00m:\n\u001b[0;32m    389\u001b[0m     \u001b[38;5;66;03m# If `log_system_metrics` is not specified, we will check environment variable.\u001b[39;00m\n\u001b[0;32m    390\u001b[0m     log_system_metrics \u001b[38;5;241m=\u001b[39m MLFLOW_ENABLE_SYSTEM_METRICS_LOGGING\u001b[38;5;241m.\u001b[39mget()\n",
      "File \u001b[1;32mc:\\Users\\dvidyara\\.conda\\envs\\anaconda\\lib\\site-packages\\mlflow\\tracking\\client.py:393\u001b[0m, in \u001b[0;36mMlflowClient.create_run\u001b[1;34m(self, experiment_id, start_time, tags, run_name)\u001b[0m\n\u001b[0;32m    339\u001b[0m \u001b[38;5;28;01mdef\u001b[39;00m \u001b[38;5;21mcreate_run\u001b[39m(\n\u001b[0;32m    340\u001b[0m     \u001b[38;5;28mself\u001b[39m,\n\u001b[0;32m    341\u001b[0m     experiment_id: \u001b[38;5;28mstr\u001b[39m,\n\u001b[1;32m   (...)\u001b[0m\n\u001b[0;32m    344\u001b[0m     run_name: Optional[\u001b[38;5;28mstr\u001b[39m] \u001b[38;5;241m=\u001b[39m \u001b[38;5;28;01mNone\u001b[39;00m,\n\u001b[0;32m    345\u001b[0m ) \u001b[38;5;241m-\u001b[39m\u001b[38;5;241m>\u001b[39m Run:\n\u001b[0;32m    346\u001b[0m \u001b[38;5;250m    \u001b[39m\u001b[38;5;124;03m\"\"\"\u001b[39;00m\n\u001b[0;32m    347\u001b[0m \u001b[38;5;124;03m    Create a :py:class:`mlflow.entities.Run` object that can be associated with\u001b[39;00m\n\u001b[0;32m    348\u001b[0m \u001b[38;5;124;03m    metrics, parameters, artifacts, etc.\u001b[39;00m\n\u001b[1;32m   (...)\u001b[0m\n\u001b[0;32m    391\u001b[0m \u001b[38;5;124;03m        status: RUNNING\u001b[39;00m\n\u001b[0;32m    392\u001b[0m \u001b[38;5;124;03m    \"\"\"\u001b[39;00m\n\u001b[1;32m--> 393\u001b[0m     \u001b[38;5;28;01mreturn\u001b[39;00m \u001b[38;5;28;43mself\u001b[39;49m\u001b[38;5;241;43m.\u001b[39;49m\u001b[43m_tracking_client\u001b[49m\u001b[38;5;241;43m.\u001b[39;49m\u001b[43mcreate_run\u001b[49m\u001b[43m(\u001b[49m\u001b[43mexperiment_id\u001b[49m\u001b[43m,\u001b[49m\u001b[43m \u001b[49m\u001b[43mstart_time\u001b[49m\u001b[43m,\u001b[49m\u001b[43m \u001b[49m\u001b[43mtags\u001b[49m\u001b[43m,\u001b[49m\u001b[43m \u001b[49m\u001b[43mrun_name\u001b[49m\u001b[43m)\u001b[49m\n",
      "File \u001b[1;32mc:\\Users\\dvidyara\\.conda\\envs\\anaconda\\lib\\site-packages\\mlflow\\tracking\\_tracking_service\\client.py:165\u001b[0m, in \u001b[0;36mTrackingServiceClient.create_run\u001b[1;34m(self, experiment_id, start_time, tags, run_name)\u001b[0m\n\u001b[0;32m    160\u001b[0m \u001b[38;5;66;03m# Extract user from tags\u001b[39;00m\n\u001b[0;32m    161\u001b[0m \u001b[38;5;66;03m# This logic is temporary; the user_id attribute of runs is deprecated and will be removed\u001b[39;00m\n\u001b[0;32m    162\u001b[0m \u001b[38;5;66;03m# in a later release.\u001b[39;00m\n\u001b[0;32m    163\u001b[0m user_id \u001b[38;5;241m=\u001b[39m tags\u001b[38;5;241m.\u001b[39mget(MLFLOW_USER, \u001b[38;5;124m\"\u001b[39m\u001b[38;5;124munknown\u001b[39m\u001b[38;5;124m\"\u001b[39m)\n\u001b[1;32m--> 165\u001b[0m \u001b[38;5;28;01mreturn\u001b[39;00m \u001b[38;5;28;43mself\u001b[39;49m\u001b[38;5;241;43m.\u001b[39;49m\u001b[43mstore\u001b[49m\u001b[38;5;241;43m.\u001b[39;49m\u001b[43mcreate_run\u001b[49m\u001b[43m(\u001b[49m\n\u001b[0;32m    166\u001b[0m \u001b[43m    \u001b[49m\u001b[43mexperiment_id\u001b[49m\u001b[38;5;241;43m=\u001b[39;49m\u001b[43mexperiment_id\u001b[49m\u001b[43m,\u001b[49m\n\u001b[0;32m    167\u001b[0m \u001b[43m    \u001b[49m\u001b[43muser_id\u001b[49m\u001b[38;5;241;43m=\u001b[39;49m\u001b[43muser_id\u001b[49m\u001b[43m,\u001b[49m\n\u001b[0;32m    168\u001b[0m \u001b[43m    \u001b[49m\u001b[43mstart_time\u001b[49m\u001b[38;5;241;43m=\u001b[39;49m\u001b[43mstart_time\u001b[49m\u001b[43m \u001b[49m\u001b[38;5;129;43;01mor\u001b[39;49;00m\u001b[43m \u001b[49m\u001b[43mget_current_time_millis\u001b[49m\u001b[43m(\u001b[49m\u001b[43m)\u001b[49m\u001b[43m,\u001b[49m\n\u001b[0;32m    169\u001b[0m \u001b[43m    \u001b[49m\u001b[43mtags\u001b[49m\u001b[38;5;241;43m=\u001b[39;49m\u001b[43m[\u001b[49m\u001b[43mRunTag\u001b[49m\u001b[43m(\u001b[49m\u001b[43mkey\u001b[49m\u001b[43m,\u001b[49m\u001b[43m \u001b[49m\u001b[43mvalue\u001b[49m\u001b[43m)\u001b[49m\u001b[43m \u001b[49m\u001b[38;5;28;43;01mfor\u001b[39;49;00m\u001b[43m \u001b[49m\u001b[43m(\u001b[49m\u001b[43mkey\u001b[49m\u001b[43m,\u001b[49m\u001b[43m \u001b[49m\u001b[43mvalue\u001b[49m\u001b[43m)\u001b[49m\u001b[43m \u001b[49m\u001b[38;5;129;43;01min\u001b[39;49;00m\u001b[43m \u001b[49m\u001b[43mtags\u001b[49m\u001b[38;5;241;43m.\u001b[39;49m\u001b[43mitems\u001b[49m\u001b[43m(\u001b[49m\u001b[43m)\u001b[49m\u001b[43m]\u001b[49m\u001b[43m,\u001b[49m\n\u001b[0;32m    170\u001b[0m \u001b[43m    \u001b[49m\u001b[43mrun_name\u001b[49m\u001b[38;5;241;43m=\u001b[39;49m\u001b[43mrun_name\u001b[49m\u001b[43m,\u001b[49m\n\u001b[0;32m    171\u001b[0m \u001b[43m\u001b[49m\u001b[43m)\u001b[49m\n",
      "File \u001b[1;32mc:\\Users\\dvidyara\\.conda\\envs\\anaconda\\lib\\site-packages\\mlflow\\store\\tracking\\rest_store.py:208\u001b[0m, in \u001b[0;36mRestStore.create_run\u001b[1;34m(self, experiment_id, user_id, start_time, tags, run_name)\u001b[0m\n\u001b[0;32m    198\u001b[0m tag_protos \u001b[38;5;241m=\u001b[39m [tag\u001b[38;5;241m.\u001b[39mto_proto() \u001b[38;5;28;01mfor\u001b[39;00m tag \u001b[38;5;129;01min\u001b[39;00m tags]\n\u001b[0;32m    199\u001b[0m req_body \u001b[38;5;241m=\u001b[39m message_to_json(\n\u001b[0;32m    200\u001b[0m     CreateRun(\n\u001b[0;32m    201\u001b[0m         experiment_id\u001b[38;5;241m=\u001b[39m\u001b[38;5;28mstr\u001b[39m(experiment_id),\n\u001b[1;32m   (...)\u001b[0m\n\u001b[0;32m    206\u001b[0m     )\n\u001b[0;32m    207\u001b[0m )\n\u001b[1;32m--> 208\u001b[0m response_proto \u001b[38;5;241m=\u001b[39m \u001b[38;5;28;43mself\u001b[39;49m\u001b[38;5;241;43m.\u001b[39;49m\u001b[43m_call_endpoint\u001b[49m\u001b[43m(\u001b[49m\u001b[43mCreateRun\u001b[49m\u001b[43m,\u001b[49m\u001b[43m \u001b[49m\u001b[43mreq_body\u001b[49m\u001b[43m)\u001b[49m\n\u001b[0;32m    209\u001b[0m \u001b[38;5;28;01mreturn\u001b[39;00m Run\u001b[38;5;241m.\u001b[39mfrom_proto(response_proto\u001b[38;5;241m.\u001b[39mrun)\n",
      "File \u001b[1;32mc:\\Users\\dvidyara\\.conda\\envs\\anaconda\\lib\\site-packages\\mlflow\\store\\tracking\\rest_store.py:81\u001b[0m, in \u001b[0;36mRestStore._call_endpoint\u001b[1;34m(self, api, json_body, endpoint)\u001b[0m\n\u001b[0;32m     79\u001b[0m     endpoint, method \u001b[38;5;241m=\u001b[39m _METHOD_TO_INFO[api]\n\u001b[0;32m     80\u001b[0m response_proto \u001b[38;5;241m=\u001b[39m api\u001b[38;5;241m.\u001b[39mResponse()\n\u001b[1;32m---> 81\u001b[0m \u001b[38;5;28;01mreturn\u001b[39;00m \u001b[43mcall_endpoint\u001b[49m\u001b[43m(\u001b[49m\u001b[38;5;28;43mself\u001b[39;49m\u001b[38;5;241;43m.\u001b[39;49m\u001b[43mget_host_creds\u001b[49m\u001b[43m(\u001b[49m\u001b[43m)\u001b[49m\u001b[43m,\u001b[49m\u001b[43m \u001b[49m\u001b[43mendpoint\u001b[49m\u001b[43m,\u001b[49m\u001b[43m \u001b[49m\u001b[43mmethod\u001b[49m\u001b[43m,\u001b[49m\u001b[43m \u001b[49m\u001b[43mjson_body\u001b[49m\u001b[43m,\u001b[49m\u001b[43m \u001b[49m\u001b[43mresponse_proto\u001b[49m\u001b[43m)\u001b[49m\n",
      "File \u001b[1;32mc:\\Users\\dvidyara\\.conda\\envs\\anaconda\\lib\\site-packages\\mlflow\\utils\\rest_utils.py:304\u001b[0m, in \u001b[0;36mcall_endpoint\u001b[1;34m(host_creds, endpoint, method, json_body, response_proto, extra_headers)\u001b[0m\n\u001b[0;32m    301\u001b[0m     call_kwargs[\u001b[38;5;124m\"\u001b[39m\u001b[38;5;124mjson\u001b[39m\u001b[38;5;124m\"\u001b[39m] \u001b[38;5;241m=\u001b[39m json_body\n\u001b[0;32m    302\u001b[0m     response \u001b[38;5;241m=\u001b[39m http_request(\u001b[38;5;241m*\u001b[39m\u001b[38;5;241m*\u001b[39mcall_kwargs)\n\u001b[1;32m--> 304\u001b[0m response \u001b[38;5;241m=\u001b[39m \u001b[43mverify_rest_response\u001b[49m\u001b[43m(\u001b[49m\u001b[43mresponse\u001b[49m\u001b[43m,\u001b[49m\u001b[43m \u001b[49m\u001b[43mendpoint\u001b[49m\u001b[43m)\u001b[49m\n\u001b[0;32m    305\u001b[0m js_dict \u001b[38;5;241m=\u001b[39m json\u001b[38;5;241m.\u001b[39mloads(response\u001b[38;5;241m.\u001b[39mtext)\n\u001b[0;32m    306\u001b[0m parse_dict(js_dict\u001b[38;5;241m=\u001b[39mjs_dict, message\u001b[38;5;241m=\u001b[39mresponse_proto)\n",
      "File \u001b[1;32mc:\\Users\\dvidyara\\.conda\\envs\\anaconda\\lib\\site-packages\\mlflow\\utils\\rest_utils.py:180\u001b[0m, in \u001b[0;36mverify_rest_response\u001b[1;34m(response, endpoint)\u001b[0m\n\u001b[0;32m    175\u001b[0m     \u001b[38;5;28;01melse\u001b[39;00m:\n\u001b[0;32m    176\u001b[0m         base_msg \u001b[38;5;241m=\u001b[39m (\n\u001b[0;32m    177\u001b[0m             \u001b[38;5;124mf\u001b[39m\u001b[38;5;124m\"\u001b[39m\u001b[38;5;124mAPI request to endpoint \u001b[39m\u001b[38;5;132;01m{\u001b[39;00mendpoint\u001b[38;5;132;01m}\u001b[39;00m\u001b[38;5;124m \u001b[39m\u001b[38;5;124m\"\u001b[39m\n\u001b[0;32m    178\u001b[0m             \u001b[38;5;124mf\u001b[39m\u001b[38;5;124m\"\u001b[39m\u001b[38;5;124mfailed with error code \u001b[39m\u001b[38;5;132;01m{\u001b[39;00mresponse\u001b[38;5;241m.\u001b[39mstatus_code\u001b[38;5;132;01m}\u001b[39;00m\u001b[38;5;124m != 200\u001b[39m\u001b[38;5;124m\"\u001b[39m\n\u001b[0;32m    179\u001b[0m         )\n\u001b[1;32m--> 180\u001b[0m         \u001b[38;5;28;01mraise\u001b[39;00m MlflowException(\n\u001b[0;32m    181\u001b[0m             \u001b[38;5;124mf\u001b[39m\u001b[38;5;124m\"\u001b[39m\u001b[38;5;132;01m{\u001b[39;00mbase_msg\u001b[38;5;132;01m}\u001b[39;00m\u001b[38;5;124m. Response body: \u001b[39m\u001b[38;5;124m'\u001b[39m\u001b[38;5;132;01m{\u001b[39;00mresponse\u001b[38;5;241m.\u001b[39mtext\u001b[38;5;132;01m}\u001b[39;00m\u001b[38;5;124m'\u001b[39m\u001b[38;5;124m\"\u001b[39m,\n\u001b[0;32m    182\u001b[0m             error_code\u001b[38;5;241m=\u001b[39mget_error_code(response\u001b[38;5;241m.\u001b[39mstatus_code),\n\u001b[0;32m    183\u001b[0m         )\n\u001b[0;32m    185\u001b[0m \u001b[38;5;66;03m# Skip validation for endpoints (e.g. DBFS file-download API) which may return a non-JSON\u001b[39;00m\n\u001b[0;32m    186\u001b[0m \u001b[38;5;66;03m# response\u001b[39;00m\n\u001b[0;32m    187\u001b[0m \u001b[38;5;28;01mif\u001b[39;00m endpoint\u001b[38;5;241m.\u001b[39mstartswith(_REST_API_PATH_PREFIX) \u001b[38;5;129;01mand\u001b[39;00m \u001b[38;5;129;01mnot\u001b[39;00m _can_parse_as_json_object(response\u001b[38;5;241m.\u001b[39mtext):\n",
      "\u001b[1;31mMlflowException\u001b[0m: API request to endpoint /api/2.0/mlflow/runs/create failed with error code 403 != 200. Response body: ''"
     ]
    }
   ],
   "source": [
    "try:\n",
    "    config= ConfigurationManager()\n",
    "    data_evaluation_config= config.get_model_evaluation_config()\n",
    "    data_evaluation_config= ModelEvaulation(config=data_evaluation_config)\n",
    "    data_evaluation_config.log_into_mlflow()\n",
    "except Exception as e:\n",
    "    raise e "
   ]
  }
 ],
 "metadata": {
  "kernelspec": {
   "display_name": "anaconda",
   "language": "python",
   "name": "python3"
  },
  "language_info": {
   "codemirror_mode": {
    "name": "ipython",
    "version": 3
   },
   "file_extension": ".py",
   "mimetype": "text/x-python",
   "name": "python",
   "nbconvert_exporter": "python",
   "pygments_lexer": "ipython3",
   "version": "3.10.10"
  }
 },
 "nbformat": 4,
 "nbformat_minor": 2
}
